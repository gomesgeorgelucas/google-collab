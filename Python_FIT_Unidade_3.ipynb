{
  "nbformat": 4,
  "nbformat_minor": 0,
  "metadata": {
    "colab": {
      "name": "Python_FIT_Unidade_3.ipynb",
      "provenance": [],
      "collapsed_sections": [],
      "authorship_tag": "ABX9TyPVdU7KU786rQAbbhf7xo91",
      "include_colab_link": true
    },
    "kernelspec": {
      "name": "python3",
      "display_name": "Python 3"
    },
    "language_info": {
      "name": "python"
    }
  },
  "cells": [
    {
      "cell_type": "markdown",
      "metadata": {
        "id": "view-in-github",
        "colab_type": "text"
      },
      "source": [
        "<a href=\"https://colab.research.google.com/github/gomesgeorgelucas/google-collab/blob/main/Python_FIT_Unidade_3.ipynb\" target=\"_parent\"><img src=\"https://colab.research.google.com/assets/colab-badge.svg\" alt=\"Open In Colab\"/></a>"
      ]
    },
    {
      "cell_type": "markdown",
      "source": [
        "- [x] Exercício 1 - Imprimir messagem "
      ],
      "metadata": {
        "id": "8r9b5K9hNqny"
      }
    },
    {
      "cell_type": "code",
      "execution_count": 7,
      "metadata": {
        "colab": {
          "base_uri": "https://localhost:8080/"
        },
        "id": "s4LHzHzJAoN3",
        "outputId": "e7ed1539-a82f-4667-9fd3-e4fcc61b02e4"
      },
      "outputs": [
        {
          "output_type": "stream",
          "name": "stdout",
          "text": [
            "My python notebook!\n"
          ]
        }
      ],
      "source": [
        "print(\"My python notebook!\")"
      ]
    },
    {
      "cell_type": "code",
      "source": [
        "import cmath\n",
        "c = complex(5,6)\n",
        "print(\"Numero \" + str(c));\n",
        "print(\"Parte Real \" + str(c.real))\n",
        "print(\"Parte Imaginaria \" + str(c.imag));\n",
        "\n",
        "print(\"Fase \" + str(cmath.phase(c)))\n",
        "print(\"Polar \" + str(cmath.polar(c)))"
      ],
      "metadata": {
        "colab": {
          "base_uri": "https://localhost:8080/"
        },
        "id": "CfL65UcABQV0",
        "outputId": "ccce060a-ad0c-4604-d976-46cc83d0459b"
      },
      "execution_count": 14,
      "outputs": [
        {
          "output_type": "stream",
          "name": "stdout",
          "text": [
            "Numero (5+6j)\n",
            "Parte Real 5.0\n",
            "Parte Imaginaria 6.0\n",
            "Fase 0.8760580505981934\n",
            "Polar (7.810249675906654, 0.8760580505981934)\n"
          ]
        }
      ]
    },
    {
      "cell_type": "markdown",
      "source": [
        "- [x] Exercício 2 - Menssagem personalizada."
      ],
      "metadata": {
        "id": "W82PP-hENNkp"
      }
    },
    {
      "cell_type": "code",
      "source": [
        "name = input(\"Digite o seu nome: \")"
      ],
      "metadata": {
        "colab": {
          "base_uri": "https://localhost:8080/"
        },
        "id": "9cqooWu1HdW8",
        "outputId": "06ad4f11-508b-4727-8b5d-12c899882d35"
      },
      "execution_count": 16,
      "outputs": [
        {
          "output_type": "stream",
          "name": "stdout",
          "text": [
            "Digite o seu nome: Lucas\n",
            "Lucas\n"
          ]
        }
      ]
    },
    {
      "cell_type": "code",
      "source": [
        "print(\"Olá \" + name + \"!\")"
      ],
      "metadata": {
        "colab": {
          "base_uri": "https://localhost:8080/"
        },
        "id": "Xp6B-1PMLObt",
        "outputId": "cf758f53-f47b-4725-8519-d9e941d7f90b"
      },
      "execution_count": 20,
      "outputs": [
        {
          "output_type": "stream",
          "name": "stdout",
          "text": [
            "Olá Lucas!\n"
          ]
        }
      ]
    },
    {
      "cell_type": "markdown",
      "source": [
        "- [x] Exercício 3 - Recebe dois números e mostra soma e diferença entre eles"
      ],
      "metadata": {
        "id": "xUdM6wjTNcbq"
      }
    },
    {
      "cell_type": "code",
      "source": [
        "num_1 = float(input(\"Digite um número: \"))\n",
        "num_2 = float(input(\"Digite outro número: \"))"
      ],
      "metadata": {
        "colab": {
          "base_uri": "https://localhost:8080/"
        },
        "id": "zInUhVOHLxAV",
        "outputId": "d9a430a8-8d0c-44f9-d537-d2e7a743c94f"
      },
      "execution_count": 22,
      "outputs": [
        {
          "name": "stdout",
          "output_type": "stream",
          "text": [
            "Digite um número: 1\n",
            "Digite outro número: 2\n"
          ]
        }
      ]
    },
    {
      "cell_type": "code",
      "source": [
        "print(\"Soma= \" + str(num_1+num_2))\n",
        "print(\"Diferença= \" + str(num_1-num_2))"
      ],
      "metadata": {
        "colab": {
          "base_uri": "https://localhost:8080/"
        },
        "id": "lBxW7-rKMD5B",
        "outputId": "4a3e42a8-3330-4870-c158-0acff1f90364"
      },
      "execution_count": 23,
      "outputs": [
        {
          "output_type": "stream",
          "name": "stdout",
          "text": [
            "Soma= 3.0\n",
            "Diferença= -1.0\n"
          ]
        }
      ]
    },
    {
      "cell_type": "code",
      "source": [
        "#comentário"
      ],
      "metadata": {
        "id": "XpF8tyGZMvzb"
      },
      "execution_count": null,
      "outputs": []
    },
    {
      "cell_type": "markdown",
      "source": [
        "- [ ] - Exercício 4 - "
      ],
      "metadata": {
        "id": "W-J7hb50Nzm6"
      }
    }
  ]
}